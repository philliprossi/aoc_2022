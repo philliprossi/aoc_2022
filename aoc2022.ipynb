{
 "cells": [
  {
   "cell_type": "markdown",
   "metadata": {},
   "source": [
    "## Day 1"
   ]
  },
  {
   "cell_type": "code",
   "execution_count": 1,
   "metadata": {},
   "outputs": [],
   "source": [
    "with open('inputs/input') as f:\n",
    "    lines = f.readlines()"
   ]
  },
  {
   "cell_type": "code",
   "execution_count": 20,
   "metadata": {},
   "outputs": [
    {
     "name": "stdout",
     "output_type": "stream",
     "text": [
      "69177\n"
     ]
    }
   ],
   "source": [
    "#Day 1 Part 1\n",
    "#loop through lines, create groupes, keep total for group\n",
    "#keep track of global max\n",
    "global_max = -1\n",
    "section_sum=0\n",
    "calorie_total = []\n",
    "\n",
    "for line in lines:\n",
    "\n",
    "    if line == '\\n':\n",
    "        #new section\n",
    "        global_max = max(global_max, section_sum)\n",
    "        calorie_total.append(section_sum)\n",
    "        section_sum = 0\n",
    "    else:\n",
    "        line_num = int(line)\n",
    "        section_sum += line_num\n",
    "\n",
    "\n",
    "print (global_max)"
   ]
  },
  {
   "cell_type": "code",
   "execution_count": 30,
   "metadata": {},
   "outputs": [
    {
     "data": {
      "text/plain": [
       "207456"
      ]
     },
     "execution_count": 30,
     "metadata": {},
     "output_type": "execute_result"
    }
   ],
   "source": [
    "# Day 1 part 2\n",
    "#find the top 3\n",
    "calorie_total.sort(reverse=True)\n",
    "sum(calorie_total[0:3])"
   ]
  },
  {
   "cell_type": "markdown",
   "metadata": {},
   "source": [
    "## Day 2"
   ]
  },
  {
   "cell_type": "code",
   "execution_count": 67,
   "metadata": {},
   "outputs": [],
   "source": [
    "player1 = {\n",
    "    'A': 'Rock',\n",
    "    'B': 'Paper',\n",
    "    'C': 'Scissors'\n",
    "}\n",
    "player2 ={\n",
    "    'X': 'Rock',\n",
    "    'Y': 'Paper',\n",
    "    'Z': 'Scissors'\n",
    "}\n",
    "base_score = {\n",
    "    'Rock':1,\n",
    "    'Paper':2,\n",
    "    'Scissors':3\n",
    "}\n",
    "win_score = {\n",
    "    'win':6,\n",
    "    'draw':3,\n",
    "    'loss':0\n",
    "}\n",
    "win_chart = {\n",
    "    'Rock':'Scissors',\n",
    "    'Scissors': 'Paper',\n",
    "    'Paper':'Rock'\n",
    "}\n",
    "lose_chart = {\n",
    "    'Rock':'Paper',\n",
    "    'Scissors': 'Rock',\n",
    "    'Paper':'Scissors'\n",
    "}"
   ]
  },
  {
   "cell_type": "code",
   "execution_count": 62,
   "metadata": {},
   "outputs": [],
   "source": [
    "with open('inputs/day2input') as f:\n",
    "    lines = f.readlines()"
   ]
  },
  {
   "cell_type": "code",
   "execution_count": 63,
   "metadata": {},
   "outputs": [
    {
     "data": {
      "text/plain": [
       "10310"
      ]
     },
     "execution_count": 63,
     "metadata": {},
     "output_type": "execute_result"
    }
   ],
   "source": [
    "total_score = 0\n",
    "\n",
    "for round in lines:\n",
    "    p1 = round.split(' ')[0]\n",
    "    p2 = round.split(' ')[1].strip()\n",
    "\n",
    "\n",
    "    p1_choice = player1[p1]\n",
    "    p2_choice = player2[p2]\n",
    "\n",
    "    #find win,loss, draw\n",
    "    win_scores = 0\n",
    "    if p1_choice == p2_choice:\n",
    "        win_scores = win_score['draw']\n",
    "    elif win_chart[p2_choice] == p1_choice:\n",
    "        win_scores = win_score['win']\n",
    "    else:\n",
    "        win_scores = win_score['loss']\n",
    "    \n",
    "    base_scores = base_score[p2_choice]\n",
    "\n",
    "    total_score+= win_scores + base_scores\n",
    "total_score"
   ]
  },
  {
   "cell_type": "code",
   "execution_count": 70,
   "metadata": {},
   "outputs": [
    {
     "data": {
      "text/plain": [
       "14859"
      ]
     },
     "execution_count": 70,
     "metadata": {},
     "output_type": "execute_result"
    }
   ],
   "source": [
    "total_score = 0\n",
    "\n",
    "for round in lines:\n",
    "    p1 = round.split(' ')[0]\n",
    "    p2 = round.split(' ')[1].strip()\n",
    "\n",
    "\n",
    "    p1_choice = player1[p1]\n",
    "    p2_choice = player2[p2]\n",
    "\n",
    "    base = 0\n",
    "    win_scores = 0\n",
    "    if p2 == 'X':\n",
    "        #lose\n",
    "        base = base_score[win_chart[p1_choice]]\n",
    "        win_scores = win_score['loss']\n",
    "    elif p2 == 'Y':\n",
    "        #draw\n",
    "        base = base_score[p1_choice]\n",
    "        win_scores = win_score['draw']\n",
    "    else:\n",
    "        #win\n",
    "        base = base_score[lose_chart[p1_choice]]\n",
    "        win_scores = win_score['win']\n",
    "    \n",
    "    total_score+= win_scores + base\n",
    "\n",
    "\n",
    "total_score"
   ]
  },
  {
   "cell_type": "markdown",
   "metadata": {},
   "source": [
    "## Day 3"
   ]
  },
  {
   "cell_type": "code",
   "execution_count": 1,
   "metadata": {},
   "outputs": [],
   "source": [
    "with open('inputs/day3input.txt') as f:\n",
    "    lines = f.readlines()"
   ]
  },
  {
   "cell_type": "code",
   "execution_count": 39,
   "metadata": {},
   "outputs": [
    {
     "data": {
      "text/plain": [
       "7746"
      ]
     },
     "execution_count": 39,
     "metadata": {},
     "output_type": "execute_result"
    }
   ],
   "source": [
    "total = 0\n",
    "\n",
    "for line in lines:\n",
    "    line = line.strip()\n",
    "\n",
    "    line_length = len(line)\n",
    "    p1 = line[0:int(line_length/2)]\n",
    "    p2 = line[int(line_length/2):]\n",
    "\n",
    "    overlap = list(set(p1)&set(p2))[0]\n",
    "\n",
    "    if overlap.isupper():\n",
    "        total+= ord(overlap) - ord('A') + 1 +26\n",
    "    else:\n",
    "        total+= ord(overlap) - ord('a') + 1 \n",
    "\n",
    "total\n"
   ]
  },
  {
   "cell_type": "code",
   "execution_count": 56,
   "metadata": {},
   "outputs": [
    {
     "data": {
      "text/plain": [
       "2604"
      ]
     },
     "execution_count": 56,
     "metadata": {},
     "output_type": "execute_result"
    }
   ],
   "source": [
    "total = 0\n",
    "\n",
    "with open('inputs/day3input.txt') as f:\n",
    "    for line in f:\n",
    "    # Read the next three lines\n",
    "        line1 = set(line.strip())\n",
    "        line2 = set(f.readline().strip())\n",
    "        line3 = set(f.readline().strip())\n",
    "\n",
    "        overlap = line1.intersection(line2, line3)\n",
    "\n",
    "        overlap = overlap.pop()\n",
    "\n",
    "        if overlap.isupper():\n",
    "            total+= ord(overlap) - ord('A') + 1 + 26\n",
    "        else:\n",
    "            total+= ord(overlap) - ord('a') + 1 \n",
    "total"
   ]
  },
  {
   "cell_type": "markdown",
   "metadata": {},
   "source": [
    "##Day 4"
   ]
  },
  {
   "cell_type": "code",
   "execution_count": 78,
   "metadata": {},
   "outputs": [
    {
     "data": {
      "text/plain": [
       "450"
      ]
     },
     "execution_count": 78,
     "metadata": {},
     "output_type": "execute_result"
    }
   ],
   "source": [
    "\n",
    "subset_count = 0\n",
    "with open('inputs/day4input.txt') as f:\n",
    "    for line in f:\n",
    "        line  = line.strip()\n",
    "\n",
    "        e1 = line.split(',')[0]\n",
    "        e2 = line.split(',')[1]\n",
    "\n",
    "        e1_set = set(list(range( int(e1.split('-')[0]), int(e1.split('-')[1])+1)))\n",
    "        e2_set = set(list(range( int(e2.split('-')[0]), int(e2.split('-')[1])+1)))\n",
    "\n",
    "\n",
    "        if e1_set.issubset(e2_set) or e2_set.issubset(e1_set):\n",
    "            subset_count+=1\n",
    "subset_count"
   ]
  },
  {
   "cell_type": "code",
   "execution_count": 79,
   "metadata": {},
   "outputs": [
    {
     "data": {
      "text/plain": [
       "837"
      ]
     },
     "execution_count": 79,
     "metadata": {},
     "output_type": "execute_result"
    }
   ],
   "source": [
    "overlap_count = 0\n",
    "with open('inputs/day4input.txt') as f:\n",
    "    for line in f:\n",
    "        line  = line.strip()\n",
    "\n",
    "        e1 = line.split(',')[0]\n",
    "        e2 = line.split(',')[1]\n",
    "\n",
    "        e1_set = set(list(range( int(e1.split('-')[0]), int(e1.split('-')[1])+1)))\n",
    "        e2_set = set(list(range( int(e2.split('-')[0]), int(e2.split('-')[1])+1)))\n",
    "\n",
    "\n",
    "        if e1_set.intersection(e2_set):\n",
    "            overlap_count+=1\n",
    "overlap_count"
   ]
  },
  {
   "cell_type": "code",
   "execution_count": 80,
   "metadata": {},
   "outputs": [
    {
     "name": "stdout",
     "output_type": "stream",
     "text": [
      "450\n",
      "837\n"
     ]
    }
   ],
   "source": []
  },
  {
   "cell_type": "markdown",
   "metadata": {},
   "source": [
    "## Day 5"
   ]
  },
  {
   "cell_type": "code",
   "execution_count": 114,
   "metadata": {},
   "outputs": [],
   "source": [
    "\n",
    "\n",
    "\"\"\"\n",
    "                [M]     [V]     [L]\n",
    "[G]             [V] [C] [G]     [D]\n",
    "[J]             [Q] [W] [Z] [C] [J]\n",
    "[W]         [W] [G] [V] [D] [G] [C]\n",
    "[R]     [G] [N] [B] [D] [C] [M] [W]\n",
    "[F] [M] [H] [C] [S] [T] [N] [N] [N]\n",
    "[T] [W] [N] [R] [F] [R] [B] [J] [P]\n",
    "[Z] [G] [J] [J] [W] [S] [H] [S] [G]\n",
    " 1   2   3   4   5   6   7   8   9 \n",
    "\n",
    "\"\"\"\n",
    "\n",
    "crates = {\n",
    "    1: ['Z', 'T', 'F', 'R', 'W', 'J', 'G'],\n",
    "    2: ['G','W','M'],\n",
    "    3: ['J','N','H','G'],\n",
    "    4: ['J', 'R', 'C', 'N', 'W'],\n",
    "    5: ['W', 'F', 'S', 'B', 'G', 'Q', 'V', 'M'],\n",
    "    6: ['S', 'R', 'T', 'D', 'V', 'W', 'C'],\n",
    "    7: ['H', 'B', 'N', 'C', 'D', 'Z', 'G', 'V'],\n",
    "    8: ['S', 'J', 'N', 'M', 'G', 'C'],\n",
    "    9: ['G', 'P', 'N', 'W', 'C', 'J', 'D', 'L']\n",
    "\n",
    "}"
   ]
  },
  {
   "cell_type": "code",
   "execution_count": 115,
   "metadata": {},
   "outputs": [],
   "source": [
    "with open('inputs/day5.txt') as f:\n",
    "    for line in f:\n",
    "        line = line.strip()\n",
    "\n",
    "        tokens = line.split(' ')\n",
    "\n",
    "        count = int(tokens[1])\n",
    "        from_stack = int(tokens[3])\n",
    "        to_stack = int(tokens[5])\n",
    "\n",
    "        for i in range(count):\n",
    "            crates[to_stack].append(crates[from_stack].pop())\n"
   ]
  },
  {
   "cell_type": "code",
   "execution_count": 118,
   "metadata": {},
   "outputs": [
    {
     "data": {
      "text/plain": [
       "'CWMTGHBDW'"
      ]
     },
     "execution_count": 118,
     "metadata": {},
     "output_type": "execute_result"
    }
   ],
   "source": [
    "top_items = ''\n",
    "for k,v in crates.items():\n",
    "    top_items += v.pop()\n",
    "\n",
    "top_items"
   ]
  },
  {
   "cell_type": "code",
   "execution_count": 119,
   "metadata": {},
   "outputs": [],
   "source": [
    "#part 2"
   ]
  },
  {
   "cell_type": "code",
   "execution_count": 136,
   "metadata": {},
   "outputs": [],
   "source": [
    "\n",
    "\"\"\"\n",
    "                [M]     [V]     [L]\n",
    "[G]             [V] [C] [G]     [D]\n",
    "[J]             [Q] [W] [Z] [C] [J]\n",
    "[W]         [W] [G] [V] [D] [G] [C]\n",
    "[R]     [G] [N] [B] [D] [C] [M] [W]\n",
    "[F] [M] [H] [C] [S] [T] [N] [N] [N]\n",
    "[T] [W] [N] [R] [F] [R] [B] [J] [P]\n",
    "[Z] [G] [J] [J] [W] [S] [H] [S] [G]\n",
    " 1   2   3   4   5   6   7   8   9 \n",
    "\n",
    "\"\"\"\n",
    "\n",
    "crates = {\n",
    "    1: ['Z', 'T', 'F', 'R', 'W', 'J', 'G'],\n",
    "    2: ['G','W','M'],\n",
    "    3: ['J','N','H','G'],\n",
    "    4: ['J', 'R', 'C', 'N', 'W'],\n",
    "    5: ['W', 'F', 'S', 'B', 'G', 'Q', 'V', 'M'],\n",
    "    6: ['S', 'R', 'T', 'D', 'V', 'W', 'C'],\n",
    "    7: ['H', 'B', 'N', 'C', 'D', 'Z', 'G', 'V'],\n",
    "    8: ['S', 'J', 'N', 'M', 'G', 'C'],\n",
    "    9: ['G', 'P', 'N', 'W', 'C', 'J', 'D', 'L']\n",
    "\n",
    "}"
   ]
  },
  {
   "cell_type": "code",
   "execution_count": 137,
   "metadata": {},
   "outputs": [],
   "source": [
    "with open('inputs/day5.txt') as f:\n",
    "    for line in f:\n",
    "        line = line.strip()\n",
    "\n",
    "        tokens = line.split(' ')\n",
    "\n",
    "        count = int(tokens[1])\n",
    "        from_stack = int(tokens[3])\n",
    "        to_stack = int(tokens[5])\n",
    "\n",
    "        temp_queue = []\n",
    "        for i in range(count):\n",
    "            temp_queue.append(crates[from_stack].pop())\n",
    "        \n",
    "        for i in range(len(temp_queue)):\n",
    "            crates[to_stack].append(temp_queue.pop())\n"
   ]
  },
  {
   "cell_type": "code",
   "execution_count": 138,
   "metadata": {},
   "outputs": [
    {
     "data": {
      "text/plain": [
       "'SSCGWJCRB'"
      ]
     },
     "execution_count": 138,
     "metadata": {},
     "output_type": "execute_result"
    }
   ],
   "source": [
    "top_items = ''\n",
    "for k,v in crates.items():\n",
    "    top_items += v.pop()\n",
    "\n",
    "top_items"
   ]
  },
  {
   "cell_type": "markdown",
   "metadata": {},
   "source": [
    "## day 6"
   ]
  },
  {
   "cell_type": "markdown",
   "metadata": {},
   "source": []
  },
  {
   "cell_type": "code",
   "execution_count": 143,
   "metadata": {},
   "outputs": [
    {
     "data": {
      "text/plain": [
       "1757"
      ]
     },
     "execution_count": 143,
     "metadata": {},
     "output_type": "execute_result"
    }
   ],
   "source": [
    "def check_list(letterslist: list):\n",
    "    return len(letterslist) == len(set(letterslist))\n",
    "\n",
    "\n",
    "with open('inputs/day6.txt') as f:\n",
    "    file = f.read()\n",
    "\n",
    "    marker = 3\n",
    "    last_4 = [file[0], file[1], file[2], file[3]]\n",
    "\n",
    "    for letter in file[4:]:\n",
    "        marker +=1\n",
    "\n",
    "        if check_list(last_4):\n",
    "            break\n",
    "        else:\n",
    "             last_4.append(letter)\n",
    "             last_4.pop(0)\n",
    "\n",
    "marker\n"
   ]
  },
  {
   "cell_type": "code",
   "execution_count": 147,
   "metadata": {},
   "outputs": [
    {
     "name": "stdout",
     "output_type": "stream",
     "text": [
      "2950\n"
     ]
    }
   ],
   "source": [
    "with open('inputs/day6.txt') as f:\n",
    "    file = f.read()\n",
    "\n",
    "    for i in range(len(file)):\n",
    "\n",
    "        if len(set(file[i-14:i])) == 14:\n",
    "            print(i)\n",
    "            break\n"
   ]
  },
  {
   "cell_type": "code",
   "execution_count": null,
   "metadata": {},
   "outputs": [],
   "source": []
  }
 ],
 "metadata": {
  "kernelspec": {
   "display_name": "Python 3.10.8 64-bit",
   "language": "python",
   "name": "python3"
  },
  "language_info": {
   "codemirror_mode": {
    "name": "ipython",
    "version": 3
   },
   "file_extension": ".py",
   "mimetype": "text/x-python",
   "name": "python",
   "nbconvert_exporter": "python",
   "pygments_lexer": "ipython3",
   "version": "3.10.8"
  },
  "orig_nbformat": 4,
  "vscode": {
   "interpreter": {
    "hash": "aee8b7b246df8f9039afb4144a1f6fd8d2ca17a180786b69acc140d282b71a49"
   }
  }
 },
 "nbformat": 4,
 "nbformat_minor": 2
}
