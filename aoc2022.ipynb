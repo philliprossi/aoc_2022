{
 "cells": [
  {
   "cell_type": "markdown",
   "metadata": {},
   "source": [
    "## Day 1"
   ]
  },
  {
   "cell_type": "code",
   "execution_count": 1,
   "metadata": {},
   "outputs": [],
   "source": [
    "with open('inputs/input') as f:\n",
    "    lines = f.readlines()"
   ]
  },
  {
   "cell_type": "code",
   "execution_count": 20,
   "metadata": {},
   "outputs": [
    {
     "name": "stdout",
     "output_type": "stream",
     "text": [
      "69177\n"
     ]
    }
   ],
   "source": [
    "#Day 1 Part 1\n",
    "#loop through lines, create groupes, keep total for group\n",
    "#keep track of global max\n",
    "global_max = -1\n",
    "section_sum=0\n",
    "calorie_total = []\n",
    "\n",
    "for line in lines:\n",
    "\n",
    "    if line == '\\n':\n",
    "        #new section\n",
    "        global_max = max(global_max, section_sum)\n",
    "        calorie_total.append(section_sum)\n",
    "        section_sum = 0\n",
    "    else:\n",
    "        line_num = int(line)\n",
    "        section_sum += line_num\n",
    "\n",
    "\n",
    "print (global_max)"
   ]
  },
  {
   "cell_type": "code",
   "execution_count": 30,
   "metadata": {},
   "outputs": [
    {
     "data": {
      "text/plain": [
       "207456"
      ]
     },
     "execution_count": 30,
     "metadata": {},
     "output_type": "execute_result"
    }
   ],
   "source": [
    "# Day 1 part 2\n",
    "#find the top 3\n",
    "calorie_total.sort(reverse=True)\n",
    "sum(calorie_total[0:3])"
   ]
  },
  {
   "cell_type": "markdown",
   "metadata": {},
   "source": [
    "## Day 2"
   ]
  },
  {
   "cell_type": "code",
   "execution_count": 67,
   "metadata": {},
   "outputs": [],
   "source": [
    "player1 = {\n",
    "    'A': 'Rock',\n",
    "    'B': 'Paper',\n",
    "    'C': 'Scissors'\n",
    "}\n",
    "player2 ={\n",
    "    'X': 'Rock',\n",
    "    'Y': 'Paper',\n",
    "    'Z': 'Scissors'\n",
    "}\n",
    "base_score = {\n",
    "    'Rock':1,\n",
    "    'Paper':2,\n",
    "    'Scissors':3\n",
    "}\n",
    "win_score = {\n",
    "    'win':6,\n",
    "    'draw':3,\n",
    "    'loss':0\n",
    "}\n",
    "win_chart = {\n",
    "    'Rock':'Scissors',\n",
    "    'Scissors': 'Paper',\n",
    "    'Paper':'Rock'\n",
    "}\n",
    "lose_chart = {\n",
    "    'Rock':'Paper',\n",
    "    'Scissors': 'Rock',\n",
    "    'Paper':'Scissors'\n",
    "}"
   ]
  },
  {
   "cell_type": "code",
   "execution_count": 62,
   "metadata": {},
   "outputs": [],
   "source": [
    "with open('inputs/day2input') as f:\n",
    "    lines = f.readlines()"
   ]
  },
  {
   "cell_type": "code",
   "execution_count": 63,
   "metadata": {},
   "outputs": [
    {
     "data": {
      "text/plain": [
       "10310"
      ]
     },
     "execution_count": 63,
     "metadata": {},
     "output_type": "execute_result"
    }
   ],
   "source": [
    "total_score = 0\n",
    "\n",
    "for round in lines:\n",
    "    p1 = round.split(' ')[0]\n",
    "    p2 = round.split(' ')[1].strip()\n",
    "\n",
    "\n",
    "    p1_choice = player1[p1]\n",
    "    p2_choice = player2[p2]\n",
    "\n",
    "    #find win,loss, draw\n",
    "    win_scores = 0\n",
    "    if p1_choice == p2_choice:\n",
    "        win_scores = win_score['draw']\n",
    "    elif win_chart[p2_choice] == p1_choice:\n",
    "        win_scores = win_score['win']\n",
    "    else:\n",
    "        win_scores = win_score['loss']\n",
    "    \n",
    "    base_scores = base_score[p2_choice]\n",
    "\n",
    "    total_score+= win_scores + base_scores\n",
    "total_score"
   ]
  },
  {
   "cell_type": "code",
   "execution_count": 70,
   "metadata": {},
   "outputs": [
    {
     "data": {
      "text/plain": [
       "14859"
      ]
     },
     "execution_count": 70,
     "metadata": {},
     "output_type": "execute_result"
    }
   ],
   "source": [
    "total_score = 0\n",
    "\n",
    "for round in lines:\n",
    "    p1 = round.split(' ')[0]\n",
    "    p2 = round.split(' ')[1].strip()\n",
    "\n",
    "\n",
    "    p1_choice = player1[p1]\n",
    "    p2_choice = player2[p2]\n",
    "\n",
    "    base = 0\n",
    "    win_scores = 0\n",
    "    if p2 == 'X':\n",
    "        #lose\n",
    "        base = base_score[win_chart[p1_choice]]\n",
    "        win_scores = win_score['loss']\n",
    "    elif p2 == 'Y':\n",
    "        #draw\n",
    "        base = base_score[p1_choice]\n",
    "        win_scores = win_score['draw']\n",
    "    else:\n",
    "        #win\n",
    "        base = base_score[lose_chart[p1_choice]]\n",
    "        win_scores = win_score['win']\n",
    "    \n",
    "    total_score+= win_scores + base\n",
    "\n",
    "\n",
    "total_score"
   ]
  },
  {
   "cell_type": "markdown",
   "metadata": {},
   "source": [
    "## Day 3"
   ]
  },
  {
   "cell_type": "code",
   "execution_count": 1,
   "metadata": {},
   "outputs": [],
   "source": [
    "with open('inputs/day3input.txt') as f:\n",
    "    lines = f.readlines()"
   ]
  },
  {
   "cell_type": "code",
   "execution_count": 39,
   "metadata": {},
   "outputs": [
    {
     "data": {
      "text/plain": [
       "7746"
      ]
     },
     "execution_count": 39,
     "metadata": {},
     "output_type": "execute_result"
    }
   ],
   "source": [
    "total = 0\n",
    "\n",
    "for line in lines:\n",
    "    line = line.strip()\n",
    "\n",
    "    line_length = len(line)\n",
    "    p1 = line[0:int(line_length/2)]\n",
    "    p2 = line[int(line_length/2):]\n",
    "\n",
    "    overlap = list(set(p1)&set(p2))[0]\n",
    "\n",
    "    if overlap.isupper():\n",
    "        total+= ord(overlap) - ord('A') + 1 +26\n",
    "    else:\n",
    "        total+= ord(overlap) - ord('a') + 1 \n",
    "\n",
    "total\n"
   ]
  },
  {
   "cell_type": "code",
   "execution_count": 56,
   "metadata": {},
   "outputs": [
    {
     "data": {
      "text/plain": [
       "2604"
      ]
     },
     "execution_count": 56,
     "metadata": {},
     "output_type": "execute_result"
    }
   ],
   "source": [
    "total = 0\n",
    "\n",
    "with open('inputs/day3input.txt') as f:\n",
    "    for line in f:\n",
    "    # Read the next three lines\n",
    "        line1 = set(line.strip())\n",
    "        line2 = set(f.readline().strip())\n",
    "        line3 = set(f.readline().strip())\n",
    "\n",
    "        overlap = line1.intersection(line2, line3)\n",
    "\n",
    "        overlap = overlap.pop()\n",
    "\n",
    "        if overlap.isupper():\n",
    "            total+= ord(overlap) - ord('A') + 1 + 26\n",
    "        else:\n",
    "            total+= ord(overlap) - ord('a') + 1 \n",
    "total"
   ]
  },
  {
   "cell_type": "markdown",
   "metadata": {},
   "source": [
    "## Day 4"
   ]
  },
  {
   "cell_type": "code",
   "execution_count": 78,
   "metadata": {},
   "outputs": [
    {
     "data": {
      "text/plain": [
       "450"
      ]
     },
     "execution_count": 78,
     "metadata": {},
     "output_type": "execute_result"
    }
   ],
   "source": [
    "\n",
    "subset_count = 0\n",
    "with open('inputs/day4input.txt') as f:\n",
    "    for line in f:\n",
    "        line  = line.strip()\n",
    "\n",
    "        e1 = line.split(',')[0]\n",
    "        e2 = line.split(',')[1]\n",
    "\n",
    "        e1_set = set(list(range( int(e1.split('-')[0]), int(e1.split('-')[1])+1)))\n",
    "        e2_set = set(list(range( int(e2.split('-')[0]), int(e2.split('-')[1])+1)))\n",
    "\n",
    "\n",
    "        if e1_set.issubset(e2_set) or e2_set.issubset(e1_set):\n",
    "            subset_count+=1\n",
    "subset_count"
   ]
  },
  {
   "cell_type": "code",
   "execution_count": 79,
   "metadata": {},
   "outputs": [
    {
     "data": {
      "text/plain": [
       "837"
      ]
     },
     "execution_count": 79,
     "metadata": {},
     "output_type": "execute_result"
    }
   ],
   "source": [
    "overlap_count = 0\n",
    "with open('inputs/day4input.txt') as f:\n",
    "    for line in f:\n",
    "        line  = line.strip()\n",
    "\n",
    "        e1 = line.split(',')[0]\n",
    "        e2 = line.split(',')[1]\n",
    "\n",
    "        e1_set = set(list(range( int(e1.split('-')[0]), int(e1.split('-')[1])+1)))\n",
    "        e2_set = set(list(range( int(e2.split('-')[0]), int(e2.split('-')[1])+1)))\n",
    "\n",
    "\n",
    "        if e1_set.intersection(e2_set):\n",
    "            overlap_count+=1\n",
    "overlap_count"
   ]
  },
  {
   "cell_type": "code",
   "execution_count": 80,
   "metadata": {},
   "outputs": [
    {
     "name": "stdout",
     "output_type": "stream",
     "text": [
      "450\n",
      "837\n"
     ]
    }
   ],
   "source": []
  },
  {
   "cell_type": "markdown",
   "metadata": {},
   "source": [
    "## Day 5"
   ]
  },
  {
   "cell_type": "code",
   "execution_count": 114,
   "metadata": {},
   "outputs": [],
   "source": [
    "\n",
    "\n",
    "\"\"\"\n",
    "                [M]     [V]     [L]\n",
    "[G]             [V] [C] [G]     [D]\n",
    "[J]             [Q] [W] [Z] [C] [J]\n",
    "[W]         [W] [G] [V] [D] [G] [C]\n",
    "[R]     [G] [N] [B] [D] [C] [M] [W]\n",
    "[F] [M] [H] [C] [S] [T] [N] [N] [N]\n",
    "[T] [W] [N] [R] [F] [R] [B] [J] [P]\n",
    "[Z] [G] [J] [J] [W] [S] [H] [S] [G]\n",
    " 1   2   3   4   5   6   7   8   9 \n",
    "\n",
    "\"\"\"\n",
    "\n",
    "crates = {\n",
    "    1: ['Z', 'T', 'F', 'R', 'W', 'J', 'G'],\n",
    "    2: ['G','W','M'],\n",
    "    3: ['J','N','H','G'],\n",
    "    4: ['J', 'R', 'C', 'N', 'W'],\n",
    "    5: ['W', 'F', 'S', 'B', 'G', 'Q', 'V', 'M'],\n",
    "    6: ['S', 'R', 'T', 'D', 'V', 'W', 'C'],\n",
    "    7: ['H', 'B', 'N', 'C', 'D', 'Z', 'G', 'V'],\n",
    "    8: ['S', 'J', 'N', 'M', 'G', 'C'],\n",
    "    9: ['G', 'P', 'N', 'W', 'C', 'J', 'D', 'L']\n",
    "\n",
    "}"
   ]
  },
  {
   "cell_type": "code",
   "execution_count": 115,
   "metadata": {},
   "outputs": [],
   "source": [
    "with open('inputs/day5.txt') as f:\n",
    "    for line in f:\n",
    "        line = line.strip()\n",
    "\n",
    "        tokens = line.split(' ')\n",
    "\n",
    "        count = int(tokens[1])\n",
    "        from_stack = int(tokens[3])\n",
    "        to_stack = int(tokens[5])\n",
    "\n",
    "        for i in range(count):\n",
    "            crates[to_stack].append(crates[from_stack].pop())\n"
   ]
  },
  {
   "cell_type": "code",
   "execution_count": 118,
   "metadata": {},
   "outputs": [
    {
     "data": {
      "text/plain": [
       "'CWMTGHBDW'"
      ]
     },
     "execution_count": 118,
     "metadata": {},
     "output_type": "execute_result"
    }
   ],
   "source": [
    "top_items = ''\n",
    "for k,v in crates.items():\n",
    "    top_items += v.pop()\n",
    "\n",
    "top_items"
   ]
  },
  {
   "cell_type": "code",
   "execution_count": 119,
   "metadata": {},
   "outputs": [],
   "source": [
    "#part 2"
   ]
  },
  {
   "cell_type": "code",
   "execution_count": 136,
   "metadata": {},
   "outputs": [],
   "source": [
    "\n",
    "\"\"\"\n",
    "                [M]     [V]     [L]\n",
    "[G]             [V] [C] [G]     [D]\n",
    "[J]             [Q] [W] [Z] [C] [J]\n",
    "[W]         [W] [G] [V] [D] [G] [C]\n",
    "[R]     [G] [N] [B] [D] [C] [M] [W]\n",
    "[F] [M] [H] [C] [S] [T] [N] [N] [N]\n",
    "[T] [W] [N] [R] [F] [R] [B] [J] [P]\n",
    "[Z] [G] [J] [J] [W] [S] [H] [S] [G]\n",
    " 1   2   3   4   5   6   7   8   9 \n",
    "\n",
    "\"\"\"\n",
    "\n",
    "crates = {\n",
    "    1: ['Z', 'T', 'F', 'R', 'W', 'J', 'G'],\n",
    "    2: ['G','W','M'],\n",
    "    3: ['J','N','H','G'],\n",
    "    4: ['J', 'R', 'C', 'N', 'W'],\n",
    "    5: ['W', 'F', 'S', 'B', 'G', 'Q', 'V', 'M'],\n",
    "    6: ['S', 'R', 'T', 'D', 'V', 'W', 'C'],\n",
    "    7: ['H', 'B', 'N', 'C', 'D', 'Z', 'G', 'V'],\n",
    "    8: ['S', 'J', 'N', 'M', 'G', 'C'],\n",
    "    9: ['G', 'P', 'N', 'W', 'C', 'J', 'D', 'L']\n",
    "\n",
    "}"
   ]
  },
  {
   "cell_type": "code",
   "execution_count": 137,
   "metadata": {},
   "outputs": [],
   "source": [
    "with open('inputs/day5.txt') as f:\n",
    "    for line in f:\n",
    "        line = line.strip()\n",
    "\n",
    "        tokens = line.split(' ')\n",
    "\n",
    "        count = int(tokens[1])\n",
    "        from_stack = int(tokens[3])\n",
    "        to_stack = int(tokens[5])\n",
    "\n",
    "        temp_queue = []\n",
    "        for i in range(count):\n",
    "            temp_queue.append(crates[from_stack].pop())\n",
    "        \n",
    "        for i in range(len(temp_queue)):\n",
    "            crates[to_stack].append(temp_queue.pop())\n"
   ]
  },
  {
   "cell_type": "code",
   "execution_count": 138,
   "metadata": {},
   "outputs": [
    {
     "data": {
      "text/plain": [
       "'SSCGWJCRB'"
      ]
     },
     "execution_count": 138,
     "metadata": {},
     "output_type": "execute_result"
    }
   ],
   "source": [
    "top_items = ''\n",
    "for k,v in crates.items():\n",
    "    top_items += v.pop()\n",
    "\n",
    "top_items"
   ]
  },
  {
   "cell_type": "markdown",
   "metadata": {},
   "source": [
    "## day 6"
   ]
  },
  {
   "cell_type": "code",
   "execution_count": 143,
   "metadata": {},
   "outputs": [
    {
     "data": {
      "text/plain": [
       "1757"
      ]
     },
     "execution_count": 143,
     "metadata": {},
     "output_type": "execute_result"
    }
   ],
   "source": [
    "def check_list(letterslist: list):\n",
    "    return len(letterslist) == len(set(letterslist))\n",
    "\n",
    "with open('inputs/day6.txt') as f:\n",
    "    file = f.read()\n",
    "\n",
    "    marker = 3\n",
    "    last_4 = [file[0], file[1], file[2], file[3]]\n",
    "\n",
    "    for letter in file[4:]:\n",
    "        marker +=1\n",
    "\n",
    "        if check_list(last_4):\n",
    "            break\n",
    "        else:\n",
    "             last_4.append(letter)\n",
    "             last_4.pop(0)\n",
    "marker\n"
   ]
  },
  {
   "cell_type": "code",
   "execution_count": 147,
   "metadata": {},
   "outputs": [
    {
     "name": "stdout",
     "output_type": "stream",
     "text": [
      "2950\n"
     ]
    }
   ],
   "source": [
    "with open('inputs/day6.txt') as f:\n",
    "    file = f.read()\n",
    "\n",
    "    for i in range(len(file)):\n",
    "\n",
    "        if len(set(file[i-14:i])) == 14:\n",
    "            print(i)\n",
    "            break\n"
   ]
  },
  {
   "cell_type": "markdown",
   "metadata": {},
   "source": [
    "## Day 7"
   ]
  },
  {
   "cell_type": "code",
   "execution_count": 160,
   "metadata": {},
   "outputs": [],
   "source": [
    "class Directory:\n",
    "    def __init__(self, name, parent):\n",
    "        self.name = name\n",
    "        self.children = []\n",
    "        self.parent = parent\n",
    "        self.files = {}\n",
    "        self.file_size = 0\n",
    "        self.recursive_size = 0\n",
    "\n",
    "    def add_child(self, directory):\n",
    "        self.children.append(directory)\n",
    "\n",
    "    def add_file(self, filename, size):\n",
    "        \n",
    "        if filename not in self.files:\n",
    "            self.files[filename] = size\n",
    "            self.file_size +=  size\n",
    "\n",
    "    def check_already_directory(self,directory_name):\n",
    "        for child in self.children:\n",
    "            if child.name == directory_name:\n",
    "                return True\n",
    "        return False\n",
    "    \n",
    "    def __str__(self):\n",
    "        return self.name"
   ]
  },
  {
   "cell_type": "code",
   "execution_count": 161,
   "metadata": {},
   "outputs": [],
   "source": [
    "with open('inputs/day7.txt') as f:\n",
    "    \n",
    "    # read first line cd /\n",
    "    f.readline().strip()\n",
    "\n",
    "    root_directory = Directory('/', None)\n",
    "    directory_lookup = {\n",
    "        '/': root_directory\n",
    "    }\n",
    "\n",
    "    #read through rest of file\n",
    "\n",
    "    current_directory = root_directory\n",
    "    for line in f:\n",
    "        line = line.strip()\n",
    "\n",
    "        #check what command is issues or what the line is\n",
    "        if line[0] == '$':\n",
    "            \n",
    "            #find what command\n",
    "            if line.split(' ')[1] == 'cd':\n",
    "                if line.split(' ')[2] == '..':\n",
    "                    current_directory = current_directory.parent\n",
    "                elif line.split(' ')[2] == '/':\n",
    "                    current_directory = root_directory\n",
    "                else:\n",
    "                    for child_dir in current_directory.children:\n",
    "                        if child_dir.name == line.split(' ')[2]:\n",
    "                            current_directory = child_dir\n",
    "\n",
    "            if line.split(' ')[1] == 'ls':\n",
    "                pass\n",
    "\n",
    "        else: #must be listing files\n",
    "            if line.split(' ')[0] == 'dir':\n",
    "\n",
    "                #check if directory alreay exists\n",
    "                if not current_directory.check_already_directory(line.split(' ')[1]):\n",
    "                    d = Directory(line.split(' ')[1], current_directory)\n",
    "                    current_directory.add_child(d)\n",
    "            else: #must be file\n",
    "                current_directory.add_file(line.split(' ')[1], int(line.split(' ')[0]))\n",
    "             \n",
    "\n"
   ]
  },
  {
   "cell_type": "code",
   "execution_count": 162,
   "metadata": {},
   "outputs": [],
   "source": [
    "def add_recursive_size(directory):\n",
    "    total = 0\n",
    "    current_total = 0\n",
    "\n",
    "    current_total =  directory.file_size\n",
    "\n",
    "    for child in directory.children:\n",
    "        total += add_recursive_size(child)\n",
    "    \n",
    "    directory.recursive_size =  total + current_total\n",
    "    return total + current_total\n",
    "    "
   ]
  },
  {
   "cell_type": "code",
   "execution_count": 163,
   "metadata": {},
   "outputs": [
    {
     "data": {
      "text/plain": [
       "41272621"
      ]
     },
     "execution_count": 163,
     "metadata": {},
     "output_type": "execute_result"
    }
   ],
   "source": [
    "add_recursive_size(root_directory)"
   ]
  },
  {
   "cell_type": "code",
   "execution_count": 165,
   "metadata": {},
   "outputs": [],
   "source": [
    "def print_tree(node, indent=\"\"):\n",
    "    print(indent + str(node))\n",
    "    print(indent + str(node.file_size))\n",
    "    print(indent + str(node.recursive_size))\n",
    "    for child in node.children:\n",
    "        print_tree(child, indent + \"  \")"
   ]
  },
  {
   "cell_type": "code",
   "execution_count": 174,
   "metadata": {},
   "outputs": [
    {
     "data": {
      "text/plain": [
       "1644735"
      ]
     },
     "execution_count": 174,
     "metadata": {},
     "output_type": "execute_result"
    }
   ],
   "source": [
    "def gt(node):\n",
    "\n",
    "    x=0\n",
    "    for child in node.children:\n",
    "        x+=gt(child)\n",
    "\n",
    "    if node.recursive_size<= 100000:\n",
    "        return node.recursive_size + x\n",
    "    else:\n",
    "        return x\n",
    "\n",
    "gt(root_directory)"
   ]
  },
  {
   "cell_type": "code",
   "execution_count": 185,
   "metadata": {},
   "outputs": [
    {
     "data": {
      "text/plain": [
       "1272621"
      ]
     },
     "execution_count": 185,
     "metadata": {},
     "output_type": "execute_result"
    }
   ],
   "source": [
    "70000000 - root_directory.recursive_size\n",
    "30000000 - 28727379 "
   ]
  },
  {
   "cell_type": "code",
   "execution_count": 192,
   "metadata": {},
   "outputs": [
    {
     "data": {
      "text/plain": [
       "1300850"
      ]
     },
     "execution_count": 192,
     "metadata": {},
     "output_type": "execute_result"
    }
   ],
   "source": [
    "import sys\n",
    "\n",
    "folder_min = 1272621\n",
    "\n",
    "def min_(node):\n",
    "\n",
    "    if node.recursive_size >= folder_min:\n",
    "        min_val = node.recursive_size\n",
    "    else:\n",
    "        min_val = sys.maxsize\n",
    "\n",
    "    for child in node.children:\n",
    "        min_val = min(min_val, min_(child))\n",
    "\n",
    "    return min_val\n",
    "\n",
    "min_(root_directory)"
   ]
  },
  {
   "cell_type": "code",
   "execution_count": 190,
   "metadata": {},
   "outputs": [
    {
     "data": {
      "text/plain": [
       "39971771"
      ]
     },
     "execution_count": 190,
     "metadata": {},
     "output_type": "execute_result"
    }
   ],
   "source": [
    "root_directory.recursive_size - 1300850"
   ]
  },
  {
   "cell_type": "markdown",
   "metadata": {},
   "source": [
    "## Day 8"
   ]
  },
  {
   "cell_type": "code",
   "execution_count": 306,
   "metadata": {},
   "outputs": [
    {
     "name": "stdout",
     "output_type": "stream",
     "text": [
      "1703\n"
     ]
    }
   ],
   "source": [
    "import pprint\n",
    "\n",
    "with open('inputs/day8.txt') as f:\n",
    "    \n",
    "    #load each line into big matrix\n",
    "\n",
    "    tree_matrix = []\n",
    "    taller_matrix =  None\n",
    "\n",
    "    for line in f:\n",
    "        line = line.strip()\n",
    "        tree_matrix.append([*line])\n",
    "\n",
    "    taller_matrix = [[0 for _ in range(len(tree_matrix[0]))] for _ in range(len(tree_matrix))]\n",
    "    \n",
    "    visible_count_final = 0\n",
    "\n",
    "    for x in range(len(tree_matrix[0])):\n",
    "        for y in range(len(tree_matrix)):\n",
    "\n",
    "\n",
    "            #check left, right, up, down\n",
    "            visible_count = 0\n",
    "            #check left \n",
    "            if x == 0:\n",
    "                visible_count +=1\n",
    "            else:\n",
    "                higher_count = 0\n",
    "                for z in tree_matrix[y][0:x]:\n",
    "                    if int(z) >= int(tree_matrix[y][x]):\n",
    "                        higher_count+=1\n",
    "                if higher_count == 0:\n",
    "                    visible_count +=1\n",
    "\n",
    "            #check right\n",
    "            if x == len(tree_matrix[0]) - 1:\n",
    "                visible_count +=1\n",
    "            else:\n",
    "                higher_count = 0\n",
    "                for z in range(x+1,len(tree_matrix)):\n",
    "                    if int(tree_matrix[y][z]) >= int(tree_matrix[y][x]):\n",
    "                        higher_count+=1\n",
    "                if higher_count == 0:\n",
    "                    visible_count +=1\n",
    "\n",
    "            #check up\n",
    "            if y == 0:\n",
    "                visible_count +=1\n",
    "            else:\n",
    "                higher_count = 0\n",
    "                for z in range(y):\n",
    "                    if int(tree_matrix[z][x]) >= int(tree_matrix[y][x]):\n",
    "                        higher_count+=1\n",
    "                if higher_count == 0:\n",
    "                    visible_count +=1\n",
    "\n",
    "            #check down\n",
    "            if y == len(tree_matrix) - 1:\n",
    "                visible_count +=1\n",
    "            else:\n",
    "                higher_count = 0\n",
    "                for z in range(y+1,len(tree_matrix)):\n",
    "                    if int(tree_matrix[z][x]) >= int(tree_matrix[y][x]):\n",
    "                        higher_count+=1\n",
    "                if higher_count == 0:\n",
    "                    visible_count +=1\n",
    "\n",
    "            if visible_count>0:\n",
    "                visible_count_final+=1\n",
    "                taller_matrix[y][x] = 1\n",
    "\n",
    "    print (visible_count_final)\n",
    "\n",
    "\n"
   ]
  },
  {
   "cell_type": "code",
   "execution_count": 307,
   "metadata": {},
   "outputs": [],
   "source": [
    "# part 2"
   ]
  },
  {
   "cell_type": "code",
   "execution_count": 324,
   "metadata": {},
   "outputs": [
    {
     "name": "stdout",
     "output_type": "stream",
     "text": [
      "496650\n"
     ]
    }
   ],
   "source": [
    "import pprint\n",
    "\n",
    "with open('inputs/day8.txt') as f:\n",
    "    \n",
    "    #load each line into big matrix\n",
    "\n",
    "    tree_matrix = []\n",
    "    taller_matrix =  None\n",
    "\n",
    "    for line in f:\n",
    "        line = line.strip()\n",
    "        tree_matrix.append([*line])\n",
    "\n",
    "    taller_matrix = [[0 for _ in range(len(tree_matrix[0]))] for _ in range(len(tree_matrix))]\n",
    "\n",
    "    max_scenic_score = 0\n",
    "    for x in range(len(tree_matrix[0])):\n",
    "        for y in range(len(tree_matrix)):\n",
    "\n",
    "            scenic_score = 0\n",
    "            # 0 if on the edges\n",
    "            if x == 0 or x == len(tree_matrix[0])-1 or y ==0 or y == len(tree_matrix) - 1:\n",
    "                continue\n",
    "\n",
    "            #look left\n",
    "            left_score = 0\n",
    "            for i in range(y - 1, -1, -1): \n",
    "                left_score +=1\n",
    "                if tree_matrix[x][y] <= tree_matrix[x][i]:\n",
    "                    break\n",
    "            \n",
    "            #look right\n",
    "            right_score = 0\n",
    "            for i in range(y + 1, len(tree_matrix)): \n",
    "                right_score +=1\n",
    "                if tree_matrix[x][y] <= tree_matrix[x][i]:\n",
    "                    break\n",
    "\n",
    "            #look up\n",
    "            up_score = 0\n",
    "            for i in range(x - 1, -1, -1): \n",
    "                up_score +=1\n",
    "                if tree_matrix[x][y] <= tree_matrix[i][y]:\n",
    "                    break\n",
    "\n",
    "            #down up\n",
    "            down_score = 0\n",
    "            for i in range(x + 1, len(tree_matrix[0])): \n",
    "                down_score +=1\n",
    "                if tree_matrix[x][y] <= tree_matrix[i][y]:\n",
    "                    break\n",
    "            \n",
    "            scenic_score = left_score * right_score * up_score * down_score\n",
    "\n",
    "            max_scenic_score = max(max_scenic_score, scenic_score)\n",
    "\n",
    "    print(max_scenic_score)\n",
    "   \n",
    "     "
   ]
  },
  {
   "cell_type": "code",
   "execution_count": null,
   "metadata": {},
   "outputs": [],
   "source": []
  },
  {
   "cell_type": "markdown",
   "metadata": {},
   "source": [
    "## Day 9"
   ]
  },
  {
   "cell_type": "code",
   "execution_count": 406,
   "metadata": {},
   "outputs": [
    {
     "name": "stdout",
     "output_type": "stream",
     "text": [
      "6391\n"
     ]
    }
   ],
   "source": [
    "import pprint\n",
    "\n",
    "\n",
    "def find_new_t_spot(h_spot:list, t_spot:list):\n",
    "    if h_spot == t_spot:\n",
    "        return t_spot\n",
    "    if abs(h_spot[0] - t_spot[0]) <=1 and abs(h_spot[1] - t_spot[1]) <=1:\n",
    "        return t_spot\n",
    "\n",
    "    if h_spot[0] == t_spot[0]:\n",
    "        if h_spot[1] < t_spot[1]:\n",
    "            return [t_spot[0],t_spot[1]-1]\n",
    "        else:\n",
    "            return [t_spot[0],t_spot[1]+1]\n",
    "    if h_spot[1] == t_spot[1]:\n",
    "        if h_spot[0] < t_spot[0]:\n",
    "            return [t_spot[0]-1,t_spot[1]]\n",
    "        else:\n",
    "            return [t_spot[0]+1,t_spot[1]]\n",
    "    \n",
    "    #handle diagonal\n",
    "    new_t_spot_0 = None\n",
    "    new_t_spot_1 = None\n",
    "\n",
    "\n",
    "    if h_spot[0] < t_spot[0]:\n",
    "        new_t_spot_0 = t_spot[0] -1\n",
    "    elif h_spot[0] > t_spot[0]:\n",
    "        new_t_spot_0 = t_spot[0] + 1\n",
    "    \n",
    "    if h_spot[1] < t_spot[1]:\n",
    "        new_t_spot_1 = t_spot[1] -1\n",
    "    elif h_spot[1] > t_spot[1]:\n",
    "        new_t_spot_1 = t_spot[1] + 1\n",
    "\n",
    "\n",
    "    return [new_t_spot_0, new_t_spot_1]\n",
    "\n",
    "\n",
    "\n",
    "with open('inputs/day9.txt') as f:\n",
    "\n",
    "    #build grid of 2x sum of the moves\n",
    "    total_moves = 0\n",
    "    for line in f:\n",
    "        total_moves += int(line.strip().split(' ')[1])\n",
    "\n",
    "    #set start position\n",
    "    H_spot = [int(total_moves),int(total_moves)]\n",
    "    T_spot = [int(total_moves),int(total_moves)]\n",
    "    T_spot_tracker = [T_spot] #alternative to using grid. \n",
    "\n",
    "    #move through file\n",
    "    f.seek(0)\n",
    "    x=1\n",
    "    for line in f:\n",
    "        line = line.strip()\n",
    "        direction = line.split()[0]\n",
    "        moves = int(line.split()[1])\n",
    "        for move in range(moves):\n",
    "            #move H, then move T\n",
    "            if direction == 'L':\n",
    "                H_spot = [H_spot[0], H_spot[1] -1]\n",
    "            elif direction == 'R':\n",
    "                H_spot = [H_spot[0]  , H_spot[1] + 1]\n",
    "            elif direction == 'U':\n",
    "                H_spot = [H_spot[0] -1, H_spot[1] ]\n",
    "            elif direction == 'D':\n",
    "                H_spot = [H_spot[0] + 1, H_spot[1] ] \n",
    "            \n",
    "            T_spot = find_new_t_spot(H_spot,T_spot)\n",
    "\n",
    "            if T_spot not in T_spot_tracker:\n",
    "                T_spot_tracker.append(T_spot)\n",
    "\n",
    "\n",
    "        x+=1\n",
    "\n",
    "print(len(T_spot_tracker))\n"
   ]
  },
  {
   "cell_type": "code",
   "execution_count": 408,
   "metadata": {},
   "outputs": [
    {
     "name": "stdout",
     "output_type": "stream",
     "text": [
      "2593\n"
     ]
    }
   ],
   "source": [
    "import pprint\n",
    "\n",
    "\n",
    "def find_new_t_spot(h_spot:list, t_spot:list):\n",
    "    if h_spot == t_spot:\n",
    "        return t_spot\n",
    "    if abs(h_spot[0] - t_spot[0]) <=1 and abs(h_spot[1] - t_spot[1]) <=1:\n",
    "        return t_spot\n",
    "\n",
    "    if h_spot[0] == t_spot[0]:\n",
    "        if h_spot[1] < t_spot[1]:\n",
    "            return [t_spot[0],t_spot[1]-1]\n",
    "        else:\n",
    "            return [t_spot[0],t_spot[1]+1]\n",
    "    if h_spot[1] == t_spot[1]:\n",
    "        if h_spot[0] < t_spot[0]:\n",
    "            return [t_spot[0]-1,t_spot[1]]\n",
    "        else:\n",
    "            return [t_spot[0]+1,t_spot[1]]\n",
    "    \n",
    "    #handle diagonal\n",
    "    new_t_spot_0 = None\n",
    "    new_t_spot_1 = None\n",
    "\n",
    "\n",
    "    if h_spot[0] < t_spot[0]:\n",
    "        new_t_spot_0 = t_spot[0] -1\n",
    "    elif h_spot[0] > t_spot[0]:\n",
    "        new_t_spot_0 = t_spot[0] + 1\n",
    "    \n",
    "    if h_spot[1] < t_spot[1]:\n",
    "        new_t_spot_1 = t_spot[1] -1\n",
    "    elif h_spot[1] > t_spot[1]:\n",
    "        new_t_spot_1 = t_spot[1] + 1\n",
    "\n",
    "    return [new_t_spot_0, new_t_spot_1]\n",
    "\n",
    "\n",
    "with open('inputs/day9.txt') as f:\n",
    "\n",
    "    #build grid of 2x sum of the moves\n",
    "    total_moves = 0\n",
    "    for line in f:\n",
    "        total_moves += int(line.strip().split(' ')[1])\n",
    "\n",
    "    ropes = list(range(1, 11))\n",
    "    spot_tracker = {}\n",
    "    #set start position, and tracker\n",
    "    for x in range(10):\n",
    "        ropes[x] = [int(total_moves),int(total_moves)]\n",
    "        spot_tracker[x] = [[int(total_moves),int(total_moves)]]\n",
    "\n",
    "    #move through file\n",
    "    f.seek(0)\n",
    "    x=1\n",
    "    for line in f:\n",
    "        line = line.strip()\n",
    "        direction = line.split()[0]\n",
    "        moves = int(line.split()[1])\n",
    "\n",
    "\n",
    "        for move in range(moves):\n",
    "            #move H, then move T\n",
    "            if direction == 'L':\n",
    "                ropes[0] = [ropes[0][0], ropes[0][1] - 1]\n",
    "            elif direction == 'R':\n",
    "                ropes[0] = [ropes[0][0], ropes[0][1] + 1]\n",
    "            elif direction == 'U':\n",
    "                ropes[0] = [ropes[0][0] -1, ropes[0][1]]\n",
    "            elif direction == 'D':\n",
    "                ropes[0] = [ropes[0][0] + 1, ropes[0][1]]\n",
    "            \n",
    "            if ropes[0] not in spot_tracker[0]:\n",
    "                spot_tracker[0].append(ropes[0])\n",
    "            # Now adjust each other rope\n",
    "\n",
    "            for x in range(1,10):\n",
    "                T_spot = find_new_t_spot(ropes[x-1],ropes[x])\n",
    "                ropes[x] = T_spot\n",
    "                if T_spot not in spot_tracker[x]:\n",
    "                    spot_tracker[x].append(T_spot)\n",
    "\n",
    "        x+=1\n",
    "\n",
    "\n",
    "print(len(spot_tracker[9]))\n"
   ]
  },
  {
   "cell_type": "code",
   "execution_count": 409,
   "metadata": {},
   "outputs": [
    {
     "name": "stdout",
     "output_type": "stream",
     "text": [
      "(-173, 503)\n"
     ]
    }
   ],
   "source": [
    "instructions = []\n",
    "with open('inputs/day9.txt') as f:\n",
    "    for line in f:\n",
    "        instructions.append(line.strip().split())\n",
    "\n",
    "# Initialize the head and tail positions to be the same, overlapping\n",
    "head_pos = (0, 0)\n",
    "tail_pos = (0, 0)\n",
    "\n",
    "# For each instruction, move the head in the specified direction and update\n",
    "# the tail's position if necessary\n",
    "for inst in instructions:\n",
    "    direction, steps = inst[0], int(inst[1])\n",
    "    if direction == 'U':\n",
    "        head_pos = (head_pos[0], head_pos[1] + steps)\n",
    "        if head_pos[0] == tail_pos[0]:\n",
    "            tail_pos = (tail_pos[0], tail_pos[1] + steps)\n",
    "        else:\n",
    "            tail_pos = (tail_pos[0], tail_pos[1] + 1)\n",
    "    elif direction == 'D':\n",
    "        head_pos = (head_pos[0], head_pos[1] - steps)\n",
    "        if head_pos[0] == tail_pos[0]:\n",
    "            tail_pos = (tail_pos[0], tail_pos[1] - steps)\n",
    "        else:\n",
    "            tail_pos = (tail_pos[0], tail_pos[1] - 1)\n",
    "    elif direction == 'L':\n",
    "        head_pos = (head_pos[0] - steps, head_pos[1])\n",
    "        if head_pos[1] == tail_pos[1]:\n",
    "            tail_pos = (tail_pos[0] - steps, tail_pos[1])\n",
    "        else:\n",
    "            tail_pos = (tail_pos[0] - 1, tail_pos[1])\n",
    "    elif direction == 'R':\n",
    "        head_pos = (head_pos[0] + steps, head_pos[1])\n",
    "        if head_pos[1] == tail_pos[1]:\n",
    "            tail_pos = (tail_pos[0] + steps, tail_pos[1])\n",
    "        else:\n",
    "            tail_pos = (tail_pos[0] + 1, tail_pos[1])\n",
    "\n",
    "# Print the final position of the tail\n",
    "print(tail_pos)"
   ]
  },
  {
   "cell_type": "markdown",
   "metadata": {},
   "source": [
    "## Day 10"
   ]
  },
  {
   "cell_type": "code",
   "execution_count": 531,
   "metadata": {},
   "outputs": [
    {
     "name": "stdout",
     "output_type": "stream",
     "text": [
      "14420\n"
     ]
    }
   ],
   "source": [
    "with open('inputs/day10.txt') as f:\n",
    "\n",
    "    register_x = 1\n",
    "    clock_cycle = 0\n",
    "    cycle_captures = []\n",
    "\n",
    "    for line in f:\n",
    "        line = line.strip()\n",
    "\n",
    "        clock_cycle += 1\n",
    "\n",
    "        if clock_cycle in [20,60,100,140,180,220]:\n",
    "            cycle_captures.append([register_x, clock_cycle])\n",
    "\n",
    "        if line == 'noop':\n",
    "            pass\n",
    "        if line.split()[0] == 'addx':\n",
    "            clock_cycle += 1\n",
    "            \n",
    "            if clock_cycle in [20,60,100,140,180,220]:\n",
    "                cycle_captures.append([register_x, clock_cycle])\n",
    "\n",
    "            register_x += int(line.split()[1])\n",
    "\n",
    "\n",
    "        \"\"\"\n",
    "        print(\"----\")\n",
    "        print(f\"Register X: {register_x}\")\n",
    "        print(f\"clock_cycle: {clock_cycle}\")\n",
    "        print(f\"Cycle Captures: {cycle_captures}\")\"\"\"\n",
    "\n",
    "    sum = 0\n",
    "    for x in cycle_captures:\n",
    "        sum += x[0] * x[1]\n",
    "    print(sum)"
   ]
  },
  {
   "cell_type": "code",
   "execution_count": 530,
   "metadata": {},
   "outputs": [
    {
     "name": "stdout",
     "output_type": "stream",
     "text": [
      "['#', '#', '#', '.', '.', '.', '#', '#', '.', '.', '#', '.', '.', '.', '.', '#', '#', '#', '.', '.', '#', '#', '#', '.', '.', '#', '#', '#', '#', '.', '.', '#', '#', '.', '.', '#', '.', '.', '#', '.']\n",
      "['#', '.', '.', '#', '.', '#', '.', '.', '#', '.', '#', '.', '.', '.', '.', '#', '.', '.', '#', '.', '#', '.', '.', '#', '.', '.', '.', '.', '#', '.', '#', '.', '.', '#', '.', '#', '.', '.', '#', '.']\n",
      "['#', '.', '.', '#', '.', '#', '.', '.', '.', '.', '#', '.', '.', '.', '.', '#', '.', '.', '#', '.', '#', '#', '#', '.', '.', '.', '.', '#', '.', '.', '#', '.', '.', '#', '.', '#', '.', '.', '#', '.']\n",
      "['#', '#', '#', '.', '.', '#', '.', '#', '#', '.', '#', '.', '.', '.', '.', '#', '#', '#', '.', '.', '#', '.', '.', '#', '.', '.', '#', '.', '.', '.', '#', '#', '#', '#', '.', '#', '.', '.', '#', '.']\n",
      "['#', '.', '#', '.', '.', '#', '.', '.', '#', '.', '#', '.', '.', '.', '.', '#', '.', '#', '.', '.', '#', '.', '.', '#', '.', '#', '.', '.', '.', '.', '#', '.', '.', '#', '.', '#', '.', '.', '#', '.']\n",
      "['#', '.', '.', '#', '.', '.', '#', '#', '#', '.', '#', '#', '#', '#', '.', '#', '.', '.', '#', '.', '#', '#', '#', '.', '.', '#', '#', '#', '#', '.', '#', '.', '.', '#', '.', '.', '#', '#', '.', '.']\n"
     ]
    }
   ],
   "source": [
    "import math\n",
    "\n",
    "screen = [['.' for _ in range(40)] for _ in range(6)]\n",
    "with open('inputs/day10.txt') as f:\n",
    "    register_x = 1\n",
    "    \n",
    "    sprite_l = (0,0)\n",
    "    sprite =  (0,1)\n",
    "    sprite_r = (0,2)\n",
    "\n",
    "    cycle = 1\n",
    "    prev_command = None\n",
    "    is_processing = False\n",
    "\n",
    "    for i in range(6):\n",
    "        for j in range(40):\n",
    "\n",
    "            sprite = (math.floor(register_x/40) + math.floor((cycle-1)/40),  register_x % 40 )\n",
    "            sprite_l = (math.floor((register_x-1)/40) + math.floor((cycle-1)/40),  (register_x-1) % 40 )\n",
    "            sprite_r = (math.floor((register_x+1)/40) + math.floor((cycle-1)/40),  (register_x+1) % 40 )\n",
    "            \"\"\"\n",
    "            print(\"----\")\n",
    "            print(f\"Start Sprite: {sprite}\")\n",
    "            \"\"\"\n",
    "\n",
    "            #draw pixel\n",
    "            if  (math.floor((cycle-1)/40),  (cycle-1) % 40 ) in (sprite, sprite_l,sprite_r):\n",
    "                screen[math.floor((cycle-1)/40)][(cycle-1) % 40 ] = '#'\n",
    "\n",
    "            if is_processing == True:\n",
    "                register_x += int(prev_command.split()[1])\n",
    "                is_processing = False\n",
    "            else:\n",
    "                prev_command = f.readline()\n",
    "                if prev_command.split()[0] == 'addx':\n",
    "                    is_processing = True\n",
    "                else:\n",
    "                    is_processing = False\n",
    "\n",
    "\n",
    "            sprite = (math.floor(register_x/40) + math.floor((cycle-1)/40),  register_x % 40 )\n",
    "            sprite_l = (math.floor((register_x-1)/40) + math.floor((cycle-1)/40),  (register_x-1) % 40 )\n",
    "            sprite_r = (math.floor((register_x+1)/40) + math.floor((cycle-1)/40),  (register_x+1) % 40 )\n",
    "\n",
    "            \n",
    "            \"\"\"print(f\"Cycle {cycle}\")\n",
    "            print(f\"math.floor(cycle/40) {math.floor(cycle/40)}\")\n",
    "            print(f\"cycle % 40  {cycle % 40 }\")\n",
    "            print(f\"Sprite L: {sprite_l}\")\n",
    "            print(f\"Sprite: {sprite}\")\n",
    "            print(f\"Sprite R: {sprite_r}\")\n",
    "            print(f\"register_x: {register_x}\")\n",
    "            print(f\"is_processing: {is_processing}\")\"\"\"\n",
    "\n",
    "            cycle +=1\n",
    "\n",
    "\n",
    "\n",
    "for x in screen:\n",
    "    print(x)"
   ]
  },
  {
   "cell_type": "code",
   "execution_count": null,
   "metadata": {},
   "outputs": [],
   "source": []
  },
  {
   "cell_type": "markdown",
   "metadata": {},
   "source": [
    "## Day 11"
   ]
  },
  {
   "cell_type": "code",
   "execution_count": 575,
   "metadata": {},
   "outputs": [],
   "source": []
  },
  {
   "cell_type": "code",
   "execution_count": 12,
   "metadata": {},
   "outputs": [
    {
     "name": "stdout",
     "output_type": "stream",
     "text": [
      "306\n",
      "297\n",
      "90882\n"
     ]
    }
   ],
   "source": [
    "import math\n",
    "\n",
    "class Monkey:\n",
    "    def __init__(self, instructions):\n",
    "        self.instructions = instructions\n",
    "\n",
    "        split_instr = section.split('\\n')\n",
    "        items = split_instr[1].split(':')[1].split(',')\n",
    "\n",
    "        self.items = list(map(int, items)) \n",
    "        self.operation = split_instr[2].split('=')[1].strip()\n",
    "        self.test = int(split_instr[3].split('by')[1].strip())\n",
    "        self.if_true = int(split_instr[4].split('monkey')[1].strip())\n",
    "        self.if_false = int(split_instr[5].split('monkey')[1].strip())\n",
    "        self.inspect_count = 0\n",
    "    \n",
    "    def run_round(self, monkeys):\n",
    "        for item in self.items:\n",
    "            new_worry_level = eval(self.operation.replace('old', str(item)))\n",
    "            new_worry_level = math.floor(new_worry_level/3)\n",
    "            self.inspect_count +=1\n",
    "            if new_worry_level % self.test == 0:\n",
    "                monkeys[self.if_true].add_item(new_worry_level)\n",
    "            else:\n",
    "                monkeys[self.if_false].add_item(new_worry_level)\n",
    "        self.items = []\n",
    "\n",
    "    def add_item(self, item):\n",
    "        self.items.append(item)\n",
    "\n",
    "\n",
    "with open('inputs/day11.txt') as f:\n",
    "    file = f.read().strip()\n",
    "\n",
    "    sections = file.split('Monkey')\n",
    "    del sections[0]\n",
    "\n",
    "\n",
    "    monkeys = []\n",
    "    for section in sections:\n",
    "        monkeys.append(Monkey(section))\n",
    "\n",
    "    for round in range(20):\n",
    "        for monkey in monkeys:\n",
    "            monkey.run_round(monkeys)\n",
    "\n",
    "    inspect_counts = []\n",
    "    for monkey in monkeys:\n",
    "        inspect_counts.append(monkey.inspect_count)\n",
    "\n",
    "    inspect_counts.sort(reverse=True)\n",
    "    print(inspect_counts[0])\n",
    "    print(inspect_counts[1])\n",
    "\n",
    "    print(inspect_counts[0] * inspect_counts[1])\n",
    "    \n"
   ]
  },
  {
   "cell_type": "code",
   "execution_count": 14,
   "metadata": {},
   "outputs": [
    {
     "name": "stdout",
     "output_type": "stream",
     "text": [
      "177299\n",
      "174243\n",
      "30893109657\n"
     ]
    }
   ],
   "source": [
    "import math\n",
    "\n",
    "class Monkey:\n",
    "\n",
    "    tests = []\n",
    "    lcm = None\n",
    "\n",
    "    def __init__(self, instructions):\n",
    "        self.instructions = instructions\n",
    "\n",
    "        split_instr = section.split('\\n')\n",
    "        items = split_instr[1].split(':')[1].split(',')\n",
    "        self.items = list(map(int, items)) \n",
    "        self.operation = split_instr[2].split('=')[1].strip()\n",
    "        self.test = int(split_instr[3].split('by')[1].strip())\n",
    "        self.if_true = int(split_instr[4].split('monkey')[1].strip())\n",
    "        self.if_false = int(split_instr[5].split('monkey')[1].strip())\n",
    "        self.inspect_count = 0\n",
    "        Monkey.tests.append(self.test)\n",
    "    \n",
    "    def run_round(self, monkeys):\n",
    "        for item in self.items:\n",
    "\n",
    "            new_worry_level = eval(self.operation.replace('old', str(item)))\n",
    "            self.inspect_count +=1\n",
    "            new_worry_level = new_worry_level % Monkey.lcm\n",
    "\n",
    "            if new_worry_level % self.test == 0:\n",
    "                monkeys[self.if_true].add_item(new_worry_level)\n",
    "            else:\n",
    "                monkeys[self.if_false].add_item(new_worry_level)\n",
    "\n",
    "        self.items = []\n",
    "\n",
    "\n",
    "    def add_item(self, item):\n",
    "        self.items.append(item)\n",
    "\n",
    "\n",
    "with open('inputs/day11.txt') as f:\n",
    "    file = f.read().strip()\n",
    "\n",
    "    sections = file.split('Monkey')\n",
    "    del sections[0]\n",
    "\n",
    "    monkeys = []\n",
    "    for section in sections:\n",
    "        monkeys.append(Monkey(section))\n",
    "\n",
    "    Monkey.lcm = math.lcm(*Monkey.tests)\n",
    "\n",
    "    for round in range(10000):\n",
    "        for monkey in monkeys:\n",
    "            monkey.run_round(monkeys)\n",
    "\n",
    "    inspect_counts = []\n",
    "    for monkey in monkeys:\n",
    "        inspect_counts.append(monkey.inspect_count)\n",
    "\n",
    "    inspect_counts.sort(reverse=True)\n",
    "    print(inspect_counts[0])\n",
    "    print(inspect_counts[1])\n",
    "\n",
    "    print(inspect_counts[0] * inspect_counts[1])\n",
    "    "
   ]
  },
  {
   "cell_type": "markdown",
   "metadata": {},
   "source": [
    "## Day 12"
   ]
  },
  {
   "cell_type": "code",
   "execution_count": 1,
   "metadata": {},
   "outputs": [
    {
     "name": "stdout",
     "output_type": "stream",
     "text": [
      "380\n",
      "(20, 0)\n",
      "(20, 88)\n"
     ]
    }
   ],
   "source": [
    "import pprint\n",
    "from collections import deque\n",
    "\n",
    "def char_distance(a,b):\n",
    "    return ord(b) - ord(a) <= 1\n",
    "\n",
    "def add_node_to_graph(graph, node, to_node):\n",
    "    if node in graph:\n",
    "        graph[node].append(to_node)\n",
    "    else:\n",
    "        graph[node] = [to_node]\n",
    "    return graph\n",
    "\n",
    "def bfs(graph, root, end):\n",
    "    q = deque([])\n",
    "    seen = [root]  \n",
    "    q.append(root)\n",
    "\n",
    "    parents = {}\n",
    "\n",
    "    while len(q)>0:\n",
    "        v = q.popleft()\n",
    "\n",
    "        if v == end:\n",
    "            return v, parents \n",
    "        for w in graph[v]:\n",
    "            if w not in seen:\n",
    "                seen.append(w)\n",
    "                parents[w]=v\n",
    "                q.append(w) \n",
    "\n",
    "\n",
    "with open('inputs/day12.txt') as f:\n",
    "    file = f.read().strip().split()\n",
    "\n",
    "    matrix = []\n",
    "    for line in file:\n",
    "        matrix.append([*line])\n",
    "\n",
    "    graph = {}\n",
    "\n",
    "    start = (-1,-1)\n",
    "    end = (-1,-1)\n",
    "\n",
    "    for i in range(len(matrix)):\n",
    "        for j in range(len(matrix[0])):\n",
    "            if matrix[i][j] == 'S':\n",
    "                start = (i,j)\n",
    "                matrix[i][j] = 'a'\n",
    "            elif matrix[i][j] == 'E':\n",
    "                end = (i,j)\n",
    "                matrix[i][j] = 'z'\n",
    "\n",
    "    for i in range(len(matrix)):\n",
    "        for j in range(len(matrix[0])):\n",
    "\n",
    "            if (i,j) not in graph:\n",
    "                graph[(i,j)]=[]\n",
    "\n",
    "            if i>0 and char_distance(matrix[i][j], matrix[i-1][j]):\n",
    "                graph = add_node_to_graph(graph, (i,j), (i-1,j))\n",
    "\n",
    "            if i<len(matrix)-1 and char_distance(matrix[i][j], matrix[i+1][j]):\n",
    "                graph = add_node_to_graph(graph, (i,j), (i+1,j))\n",
    "\n",
    "            if j>0 and char_distance(matrix[i][j], matrix[i][j-1]):\n",
    "                graph = add_node_to_graph(graph, (i,j), (i,j-1))\n",
    "\n",
    "            if j<len(matrix[0])-1 and char_distance(matrix[i][j], matrix[i][j+1]):\n",
    "                graph = add_node_to_graph(graph, (i,j), (i,j+1))\n",
    "\n",
    "\n",
    "    #pprint.pprint(graph)\n",
    "\n",
    "    end, parents = bfs(graph, start, end)\n",
    "\n",
    "    #print(end)\n",
    "    #print(len(parents))\n",
    "    #pprint.pprint(parents)\n",
    "\n",
    "    #print(parents[(2,5)])\n",
    "\n",
    "\n",
    "    path = []\n",
    "    cnode = end\n",
    "    while True:\n",
    "        path.append(cnode)\n",
    "        if cnode == start:\n",
    "            break\n",
    "        else:\n",
    "            cnode = parents[cnode]\n",
    "    #print(path)\n",
    "    print(len(path)-1)\n",
    "\n",
    "\n",
    "#pprint.pprint(graph)\n",
    "print(start)\n",
    "print(end)\n"
   ]
  },
  {
   "cell_type": "code",
   "execution_count": 5,
   "metadata": {},
   "outputs": [
    {
     "name": "stdout",
     "output_type": "stream",
     "text": [
      "375\n"
     ]
    }
   ],
   "source": [
    "import pprint\n",
    "from collections import deque\n",
    "\n",
    "def char_distance(a,b):\n",
    "    return ord(b) - ord(a) <= 1\n",
    "\n",
    "def add_node_to_graph(graph, node, to_node):\n",
    "    if node in graph:\n",
    "        graph[node].append(to_node)\n",
    "    else:\n",
    "        graph[node] = [to_node]\n",
    "    return graph\n",
    "\n",
    "def bfs(graph, root, end):\n",
    "    q = deque([])\n",
    "    seen = [root]  \n",
    "    q.append(root)\n",
    "\n",
    "    parents = {}\n",
    "\n",
    "    while len(q)>0:\n",
    "        v = q.popleft()\n",
    "\n",
    "        if v == end:\n",
    "            return v, parents \n",
    "        for w in graph[v]:\n",
    "            if w not in seen:\n",
    "                seen.append(w)\n",
    "                parents[w]=v\n",
    "                q.append(w) \n",
    "\n",
    "    return None, None\n",
    "\n",
    "\n",
    "with open('inputs/day12.txt') as f:\n",
    "    file = f.read().strip().split()\n",
    "\n",
    "    matrix = []\n",
    "    for line in file:\n",
    "        matrix.append([*line])\n",
    "\n",
    "    graph = {}\n",
    "\n",
    "    starts = []\n",
    "    ends = (-1,-1)\n",
    "\n",
    "    for i in range(len(matrix)):\n",
    "        for j in range(len(matrix[0])):\n",
    "            if matrix[i][j] == 'S':\n",
    "                matrix[i][j] = 'a'\n",
    "            elif matrix[i][j] == 'E':\n",
    "                ends = (i,j)\n",
    "                matrix[i][j] = 'z'\n",
    "\n",
    "    #find all the start options\n",
    "    for i in range(len(matrix)):\n",
    "        for j in range(len(matrix[0])):\n",
    "            if matrix[i][j] == 'a':\n",
    "                starts.append((i,j))\n",
    "\n",
    "    for i in range(len(matrix)):\n",
    "        for j in range(len(matrix[0])):\n",
    "\n",
    "            if (i,j) not in graph:\n",
    "                graph[(i,j)]=[]\n",
    "\n",
    "            if i>0 and char_distance(matrix[i][j], matrix[i-1][j]):\n",
    "                graph = add_node_to_graph(graph, (i,j), (i-1,j))\n",
    "\n",
    "            if i<len(matrix)-1 and char_distance(matrix[i][j], matrix[i+1][j]):\n",
    "                graph = add_node_to_graph(graph, (i,j), (i+1,j))\n",
    "\n",
    "            if j>0 and char_distance(matrix[i][j], matrix[i][j-1]):\n",
    "                graph = add_node_to_graph(graph, (i,j), (i,j-1))\n",
    "\n",
    "            if j<len(matrix[0])-1 and char_distance(matrix[i][j], matrix[i][j+1]):\n",
    "                graph = add_node_to_graph(graph, (i,j), (i,j+1))\n",
    "\n",
    "\n",
    "    path_len = []\n",
    "    for start in starts:\n",
    "        end, parents = bfs(graph, start, ends)\n",
    "        path = []\n",
    "        cnode = end\n",
    "\n",
    "        if end is not None:\n",
    "            while True:\n",
    "                path.append(cnode)\n",
    "                if cnode == start:\n",
    "                    break\n",
    "                else:\n",
    "                    if cnode in parents:\n",
    "                        cnode = parents[cnode]\n",
    "            path_len.append(len(path)-1)\n",
    "\n",
    "    path_len.sort()\n",
    "    print(path_len[0])\n",
    "    \n",
    "\n"
   ]
  },
  {
   "cell_type": "markdown",
   "metadata": {},
   "source": [
    "## Day 13"
   ]
  },
  {
   "cell_type": "markdown",
   "metadata": {},
   "source": []
  }
 ],
 "metadata": {
  "kernelspec": {
   "display_name": "Python 3.10.8 64-bit",
   "language": "python",
   "name": "python3"
  },
  "language_info": {
   "codemirror_mode": {
    "name": "ipython",
    "version": 3
   },
   "file_extension": ".py",
   "mimetype": "text/x-python",
   "name": "python",
   "nbconvert_exporter": "python",
   "pygments_lexer": "ipython3",
   "version": "3.10.8"
  },
  "orig_nbformat": 4,
  "vscode": {
   "interpreter": {
    "hash": "aee8b7b246df8f9039afb4144a1f6fd8d2ca17a180786b69acc140d282b71a49"
   }
  }
 },
 "nbformat": 4,
 "nbformat_minor": 2
}
