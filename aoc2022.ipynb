{
 "cells": [
  {
   "cell_type": "markdown",
   "metadata": {},
   "source": [
    "## Day 1"
   ]
  },
  {
   "cell_type": "code",
   "execution_count": 1,
   "metadata": {},
   "outputs": [],
   "source": [
    "with open('inputs/input') as f:\n",
    "    lines = f.readlines()"
   ]
  },
  {
   "cell_type": "code",
   "execution_count": 20,
   "metadata": {},
   "outputs": [
    {
     "name": "stdout",
     "output_type": "stream",
     "text": [
      "69177\n"
     ]
    }
   ],
   "source": [
    "#Day 1 Part 1\n",
    "#loop through lines, create groupes, keep total for group\n",
    "#keep track of global max\n",
    "global_max = -1\n",
    "section_sum=0\n",
    "calorie_total = []\n",
    "\n",
    "for line in lines:\n",
    "\n",
    "    if line == '\\n':\n",
    "        #new section\n",
    "        global_max = max(global_max, section_sum)\n",
    "        calorie_total.append(section_sum)\n",
    "        section_sum = 0\n",
    "    else:\n",
    "        line_num = int(line)\n",
    "        section_sum += line_num\n",
    "\n",
    "\n",
    "print (global_max)"
   ]
  },
  {
   "cell_type": "code",
   "execution_count": 30,
   "metadata": {},
   "outputs": [
    {
     "data": {
      "text/plain": [
       "207456"
      ]
     },
     "execution_count": 30,
     "metadata": {},
     "output_type": "execute_result"
    }
   ],
   "source": [
    "# Day 1 part 2\n",
    "#find the top 3\n",
    "calorie_total.sort(reverse=True)\n",
    "sum(calorie_total[0:3])"
   ]
  },
  {
   "cell_type": "markdown",
   "metadata": {},
   "source": [
    "## Day 2"
   ]
  },
  {
   "cell_type": "code",
   "execution_count": 67,
   "metadata": {},
   "outputs": [],
   "source": [
    "player1 = {\n",
    "    'A': 'Rock',\n",
    "    'B': 'Paper',\n",
    "    'C': 'Scissors'\n",
    "}\n",
    "player2 ={\n",
    "    'X': 'Rock',\n",
    "    'Y': 'Paper',\n",
    "    'Z': 'Scissors'\n",
    "}\n",
    "base_score = {\n",
    "    'Rock':1,\n",
    "    'Paper':2,\n",
    "    'Scissors':3\n",
    "}\n",
    "win_score = {\n",
    "    'win':6,\n",
    "    'draw':3,\n",
    "    'loss':0\n",
    "}\n",
    "win_chart = {\n",
    "    'Rock':'Scissors',\n",
    "    'Scissors': 'Paper',\n",
    "    'Paper':'Rock'\n",
    "}\n",
    "lose_chart = {\n",
    "    'Rock':'Paper',\n",
    "    'Scissors': 'Rock',\n",
    "    'Paper':'Scissors'\n",
    "}"
   ]
  },
  {
   "cell_type": "code",
   "execution_count": 62,
   "metadata": {},
   "outputs": [],
   "source": [
    "with open('inputs/day2input') as f:\n",
    "    lines = f.readlines()"
   ]
  },
  {
   "cell_type": "code",
   "execution_count": 63,
   "metadata": {},
   "outputs": [
    {
     "data": {
      "text/plain": [
       "10310"
      ]
     },
     "execution_count": 63,
     "metadata": {},
     "output_type": "execute_result"
    }
   ],
   "source": [
    "total_score = 0\n",
    "\n",
    "for round in lines:\n",
    "    p1 = round.split(' ')[0]\n",
    "    p2 = round.split(' ')[1].strip()\n",
    "\n",
    "\n",
    "    p1_choice = player1[p1]\n",
    "    p2_choice = player2[p2]\n",
    "\n",
    "    #find win,loss, draw\n",
    "    win_scores = 0\n",
    "    if p1_choice == p2_choice:\n",
    "        win_scores = win_score['draw']\n",
    "    elif win_chart[p2_choice] == p1_choice:\n",
    "        win_scores = win_score['win']\n",
    "    else:\n",
    "        win_scores = win_score['loss']\n",
    "    \n",
    "    base_scores = base_score[p2_choice]\n",
    "\n",
    "    total_score+= win_scores + base_scores\n",
    "total_score"
   ]
  },
  {
   "cell_type": "code",
   "execution_count": 70,
   "metadata": {},
   "outputs": [
    {
     "data": {
      "text/plain": [
       "14859"
      ]
     },
     "execution_count": 70,
     "metadata": {},
     "output_type": "execute_result"
    }
   ],
   "source": [
    "total_score = 0\n",
    "\n",
    "for round in lines:\n",
    "    p1 = round.split(' ')[0]\n",
    "    p2 = round.split(' ')[1].strip()\n",
    "\n",
    "\n",
    "    p1_choice = player1[p1]\n",
    "    p2_choice = player2[p2]\n",
    "\n",
    "    base = 0\n",
    "    win_scores = 0\n",
    "    if p2 == 'X':\n",
    "        #lose\n",
    "        base = base_score[win_chart[p1_choice]]\n",
    "        win_scores = win_score['loss']\n",
    "    elif p2 == 'Y':\n",
    "        #draw\n",
    "        base = base_score[p1_choice]\n",
    "        win_scores = win_score['draw']\n",
    "    else:\n",
    "        #win\n",
    "        base = base_score[lose_chart[p1_choice]]\n",
    "        win_scores = win_score['win']\n",
    "    \n",
    "    total_score+= win_scores + base\n",
    "\n",
    "\n",
    "total_score"
   ]
  },
  {
   "cell_type": "code",
   "execution_count": null,
   "metadata": {},
   "outputs": [],
   "source": []
  }
 ],
 "metadata": {
  "kernelspec": {
   "display_name": "Python 3.10.8 64-bit",
   "language": "python",
   "name": "python3"
  },
  "language_info": {
   "codemirror_mode": {
    "name": "ipython",
    "version": 3
   },
   "file_extension": ".py",
   "mimetype": "text/x-python",
   "name": "python",
   "nbconvert_exporter": "python",
   "pygments_lexer": "ipython3",
   "version": "3.10.8"
  },
  "orig_nbformat": 4,
  "vscode": {
   "interpreter": {
    "hash": "aee8b7b246df8f9039afb4144a1f6fd8d2ca17a180786b69acc140d282b71a49"
   }
  }
 },
 "nbformat": 4,
 "nbformat_minor": 2
}
