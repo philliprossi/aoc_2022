{
 "cells": [
  {
   "cell_type": "code",
   "execution_count": 31,
   "metadata": {},
   "outputs": [
    {
     "name": "stdout",
     "output_type": "stream",
     "text": [
      ".......\n",
      "\n",
      ".......\n",
      "\n",
      ".......\n",
      "\n",
      "(0, 2)\n",
      "(0, 3)\n",
      "(0, 4)\n",
      "(0, 5)\n",
      "(0, 3)\n",
      "(0, 4)\n",
      "(0, 5)\n",
      "(0, 6)\n"
     ]
    }
   ],
   "source": [
    "def print_board(board):\n",
    "    for i in range(len(board)):\n",
    "        for j in range(len(board[0])):\n",
    "            print(board[i][j], end = '')\n",
    "        print('\\n')\n",
    "\n",
    "def line_shape(line_left_point):\n",
    "    return [line_left_point, (line_left_point[0], line_left_point[1]+1), (line_left_point[0], line_left_point[1]+2), (line_left_point[0], line_left_point[1]+3)]\n",
    "\n",
    "def move_shape(direction, shape, left_point, board):\n",
    "    if direction == '<':\n",
    "\n",
    "        pass\n",
    "    if direction == '>':\n",
    "        #check moving left does not overlap with anything\n",
    "\n",
    "        for point in shape:\n",
    "            adjusted_point = (point[0], point[1]+1)\n",
    "            if adjusted_point[1]>6 or board[adjusted_point[0]][adjusted_point[1]] == '#':\n",
    "                return None \n",
    "            point = adjusted_point\n",
    "            \n",
    "            \n",
    "            board[adjusted_point[0]][adjusted_point[1]] = '#'\n",
    "        \n",
    "\n",
    "class Shape():\n",
    "    def __init__(self,):\n",
    "        pass \n",
    "\n",
    "class line(Shape):\n",
    "    def __init__(self,):\n",
    "        pass \n",
    "\n",
    "\n",
    "\n",
    "with open('inputs/day17.txt') as f:\n",
    "    moves = f.read()\n",
    "    current_move = 1\n",
    "\n",
    "    game_board = [\n",
    "        ['.' for x in range(7)],\n",
    "        ['.' for x in range(7)],\n",
    "        ['.' for x in range(7)]\n",
    "    ]\n",
    "\n",
    "    line_left_point = (0,0)\n",
    "    #line_right_point = line_shape[3]\n",
    "    #line_height = 1\n",
    "\n",
    "    plus_left_point = (0,0)\n",
    "    plus_shape = [  plus_left_point, \n",
    "                    (line_left_point[0], line_left_point[1]+1), \n",
    "                    (line_left_point[0], line_left_point[1]+2),\n",
    "                    (line_left_point[0]-1, line_left_point[1]+1),\n",
    "                    (line_left_point[0]+1, line_left_point[1]+1)]\n",
    "\n",
    "\n",
    "    print_board(game_board)\n",
    "\n",
    "    #try moving plus through the board.\n",
    "    \n",
    "    #insert enough lines to fit shape\n",
    "    # add shape to board \n",
    "\n",
    "\n",
    "    game_board.insert(0,['.' for x in range(7)])\n",
    "\n",
    "    line_left_point = (0,2)\n",
    "    for point in line_shape(line_left_point):\n",
    "        print(point)\n",
    "        game_board[point[0]][point[1]] = '#'\n",
    "\n",
    "    #move the line until it hits something\n",
    "    is_being_pushed = True\n",
    "    while True:\n",
    "\n",
    "        if is_being_pushed:\n",
    "            direction = moves[len(moves) % current_move -1]\n",
    "            move_shape(direction, line_shape(line_left_point), line_left_point, game_board)\n",
    "            is_being_pushed= False\n",
    "            at_rest = False\n",
    "        else:\n",
    "            at_rest = move_shape('down', line_shape, line_left_point, game_board)\n",
    "            is_being_pushed = True\n",
    "\n",
    "        if at_rest:\n",
    "            break\n",
    "\n",
    "        break\n",
    "\n"
   ]
  },
  {
   "cell_type": "code",
   "execution_count": 7,
   "metadata": {},
   "outputs": [],
   "source": []
  },
  {
   "cell_type": "code",
   "execution_count": 8,
   "metadata": {},
   "outputs": [
    {
     "data": {
      "text/plain": [
       "[[['.'], ['.'], ['.'], ['.'], ['.'], ['.'], ['.']],\n",
       " [['.'], ['.'], ['.'], ['.'], ['.'], ['.'], ['.']],\n",
       " [['.'], ['.'], ['.'], ['.'], ['.'], ['.'], ['.']]]"
      ]
     },
     "execution_count": 8,
     "metadata": {},
     "output_type": "execute_result"
    }
   ],
   "source": [
    "game_board"
   ]
  },
  {
   "cell_type": "code",
   "execution_count": null,
   "metadata": {},
   "outputs": [],
   "source": []
  }
 ],
 "metadata": {
  "kernelspec": {
   "display_name": "Python 3.10.8 64-bit",
   "language": "python",
   "name": "python3"
  },
  "language_info": {
   "codemirror_mode": {
    "name": "ipython",
    "version": 3
   },
   "file_extension": ".py",
   "mimetype": "text/x-python",
   "name": "python",
   "nbconvert_exporter": "python",
   "pygments_lexer": "ipython3",
   "version": "3.10.8 (main, Oct 13 2022, 10:17:43) [Clang 14.0.0 (clang-1400.0.29.102)]"
  },
  "orig_nbformat": 4,
  "vscode": {
   "interpreter": {
    "hash": "aee8b7b246df8f9039afb4144a1f6fd8d2ca17a180786b69acc140d282b71a49"
   }
  }
 },
 "nbformat": 4,
 "nbformat_minor": 2
}
