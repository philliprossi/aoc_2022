{
 "cells": [
  {
   "cell_type": "code",
   "execution_count": 68,
   "metadata": {},
   "outputs": [
    {
     "name": "stdout",
     "output_type": "stream",
     "text": [
      "GRAND TOTAL: 29541007400367\n"
     ]
    }
   ],
   "source": [
    "\n",
    "with open('inputs/day25.txt') as f:\n",
    "    file = f.read()\n",
    "\n",
    "    lines = []\n",
    "    for line in file.split():\n",
    "        lines.append(line)\n",
    "\n",
    "    grand_total = 0\n",
    "    for line in lines:\n",
    "        #print (line)\n",
    "\n",
    "        total = 0\n",
    "        for x in range(len(line)-1, -1, -1 ):\n",
    "            #print (line[x])\n",
    "            char = line[x]\n",
    "\n",
    "            value = 0\n",
    "            if char == '-':\n",
    "                value = 5**(len(line)-1 - x) * (-1) \n",
    "            elif char == '=':\n",
    "                value = 5**(len(line)-1 - x) * (-2) \n",
    "            else:\n",
    "                value = 5**(len(line)-1 - x) * int(char)\n",
    "\n",
    "            #print(f\"value: {value}\")\n",
    "\n",
    "            total+=value \n",
    "\n",
    "        grand_total += total \n",
    "        \n",
    "        #print(f'TOTAL: {total}')\n",
    "\n",
    "print(f'GRAND TOTAL: {grand_total}')"
   ]
  },
  {
   "cell_type": "code",
   "execution_count": 69,
   "metadata": {},
   "outputs": [
    {
     "name": "stdout",
     "output_type": "stream",
     "text": [
      "[1, 2, 3, 3, 2, 4, 4, 4, 4, 4, 0, 3, 4, 3, 3, 0, 2, 4, 3, 2]\n"
     ]
    }
   ],
   "source": [
    "def convert_base10_to_base5(number):\n",
    "  result = []\n",
    "  while number > 0:\n",
    "    result.append(number % 5)\n",
    "    number = number // 5\n",
    "  return result[::-1]\n",
    "\n",
    "print(convert_base10_to_base5(29541007400367))  # Output: [3, 4, 4]"
   ]
  },
  {
   "cell_type": "code",
   "execution_count": 71,
   "metadata": {},
   "outputs": [],
   "source": [
    "def convert_base_5_to_snafu(b5:list):\n",
    "\n",
    "    snafu = ''\n",
    "\n",
    "    for i in range(len(b5) - 1, -1, -1):\n",
    "        #print(b5[i])\n",
    "\n",
    "        if b5[i] in [0,1,2]:\n",
    "            snafu = str(b5[i]) + snafu\n",
    "\n",
    "        if b5[i] == 3:\n",
    "            snafu = str('=') + snafu\n",
    "            b5[i-1] = b5[i-1] + 1\n",
    "\n",
    "        if b5[i] == 4:\n",
    "            snafu = str('-') + snafu\n",
    "            b5[i-1] = b5[i-1] + 1\n",
    "        \n",
    "        if b5[i] == 5:\n",
    "            snafu = str('0') + snafu\n",
    "            b5[i-1] = b5[i-1] + 1\n",
    "\n",
    "\n",
    "    return snafu\n",
    "    \n"
   ]
  },
  {
   "cell_type": "code",
   "execution_count": 72,
   "metadata": {},
   "outputs": [
    {
     "name": "stdout",
     "output_type": "stream",
     "text": [
      "2=--=0000-1-0-=1=0=2\n"
     ]
    }
   ],
   "source": [
    "\n",
    "print(convert_base_5_to_snafu([1, 2, 3, 3, 2, 4, 4, 4, 4, 4, 0, 3, 4, 3, 3, 0, 2, 4, 3, 2]))\n"
   ]
  },
  {
   "cell_type": "code",
   "execution_count": null,
   "metadata": {},
   "outputs": [],
   "source": []
  }
 ],
 "metadata": {
  "kernelspec": {
   "display_name": "Python 3",
   "language": "python",
   "name": "python3"
  },
  "language_info": {
   "codemirror_mode": {
    "name": "ipython",
    "version": 3
   },
   "file_extension": ".py",
   "mimetype": "text/x-python",
   "name": "python",
   "nbconvert_exporter": "python",
   "pygments_lexer": "ipython3",
   "version": "3.10.8 (main, Oct 13 2022, 10:17:43) [Clang 14.0.0 (clang-1400.0.29.102)]"
  },
  "orig_nbformat": 4,
  "vscode": {
   "interpreter": {
    "hash": "aee8b7b246df8f9039afb4144a1f6fd8d2ca17a180786b69acc140d282b71a49"
   }
  }
 },
 "nbformat": 4,
 "nbformat_minor": 2
}
