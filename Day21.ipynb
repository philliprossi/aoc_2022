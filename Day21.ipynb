{
 "cells": [
  {
   "cell_type": "code",
   "execution_count": 19,
   "metadata": {},
   "outputs": [
    {
     "name": "stdout",
     "output_type": "stream",
     "text": [
      "63119856257960.0\n"
     ]
    }
   ],
   "source": [
    "import operator\n",
    "\n",
    "ops = {\n",
    "    '+' : operator.add,\n",
    "    '-' : operator.sub,\n",
    "    '*' : operator.mul,\n",
    "    '/' : operator.truediv,  # use operator.div for Python 2\n",
    "    '%' : operator.mod,\n",
    "    '^' : operator.xor,\n",
    "}\n",
    "\n",
    "def traverse_monkeys(monkey, monkeys):\n",
    "    if isinstance(monkeys[monkey], int):\n",
    "        return  monkeys[monkey] \n",
    "\n",
    "    return ops[monkeys[monkey][1]] (traverse_monkeys(monkeys[monkey][0], monkeys), traverse_monkeys(monkeys[monkey][2], monkeys))\n",
    "\n",
    "with open('inputs/day21.txt') as f:\n",
    "    input = f.read()\n",
    "\n",
    "    monkeys = {}\n",
    "    root = 'root'\n",
    "    for line in input.split('\\n'):\n",
    "        #print (line)\n",
    "        if line.split(':')[1].strip().isnumeric():\n",
    "            monkeys[line.split(':')[0].strip()] = int(line.split(':')[1].strip())\n",
    "        else:\n",
    "            monkeys[line.split(':')[0].strip()] = line.split(':')[1].strip().split()\n",
    "\n",
    "    #print(monkeys)\n",
    "    print(traverse_monkeys(root, monkeys))\n",
    "\n",
    "\n"
   ]
  },
  {
   "cell_type": "code",
   "execution_count": 58,
   "metadata": {},
   "outputs": [
    {
     "name": "stdout",
     "output_type": "stream",
     "text": [
      "[3006709232464.00]\n"
     ]
    }
   ],
   "source": [
    "import operator\n",
    "from sympy import symbols, Eq, solve\n",
    "\n",
    "ops = {\n",
    "    '+' : operator.add,\n",
    "    '-' : operator.sub,\n",
    "    '*' : operator.mul,\n",
    "    '/' : operator.truediv,  # use operator.div for Python 2\n",
    "    '%' : operator.mod,\n",
    "    '^' : operator.xor,\n",
    "}\n",
    "\n",
    "def traverse_monkeys(monkey, monkeys):\n",
    "\n",
    "    if monkey == 'humn':\n",
    "        return 'humn'\n",
    "\n",
    "    if isinstance(monkeys[monkey], int):\n",
    "        return  monkeys[monkey] \n",
    "\n",
    "    return (traverse_monkeys(monkeys[monkey][0], monkeys), monkeys[monkey][1], traverse_monkeys(monkeys[monkey][2], monkeys))\n",
    "\n",
    "def evaluater(eval_list):\n",
    "\n",
    "    #print('HERE')\n",
    "    #print(eval_list)\n",
    "\n",
    "    if isinstance(eval_list[0],int):\n",
    "        ls = eval_list[0]\n",
    "    else:\n",
    "        ls =  evaluater(eval_list[0])\n",
    "\n",
    "    if isinstance(eval_list[2],int):\n",
    "        rs = eval_list[2]\n",
    "    else:\n",
    "        rs =  evaluater(eval_list[2])\n",
    "\n",
    "    return ops[eval_list[1]](ls,rs)\n",
    "\n",
    "\n",
    "def list_to_string(lst):\n",
    "    if isinstance(lst, str):\n",
    "        # If the element is a string, return it as is\n",
    "        return lst\n",
    "    elif isinstance(lst, tuple):\n",
    "        # If the element is a tuple, call the function recursively on each element\n",
    "        # and join them with the appropriate operator\n",
    "        operator = lst[1]\n",
    "        return \"(\" + list_to_string(lst[0]) + \" \" + operator + \" \" + list_to_string(lst[2]) + \")\"\n",
    "    else:\n",
    "        # If the element is not a string or tuple, return it as a string\n",
    "        return str(lst)\n",
    "\n",
    "        \n",
    "with open('inputs/day21.txt') as f:\n",
    "    input = f.read()\n",
    "\n",
    "    monkeys = {}\n",
    "    root = 'root'\n",
    "    for line in input.split('\\n'):\n",
    "        if line.split(':')[1].strip().isnumeric():\n",
    "            monkeys[line.split(':')[0].strip()] = int(line.split(':')[1].strip())\n",
    "        else:\n",
    "            monkeys[line.split(':')[0].strip()] = line.split(':')[1].strip().split()\n",
    "\n",
    "\n",
    "    ls = traverse_monkeys(monkeys[root][0], monkeys)\n",
    "    rs = traverse_monkeys(monkeys[root][2], monkeys)\n",
    "\n",
    "    rs_evaluated = evaluater(rs)\n",
    "    x = symbols('x')\n",
    "    expr = list_to_string(ls) + str(-1*rs_evaluated)\n",
    "    sol = solve(expr)\n",
    "    print(sol)\n"
   ]
  },
  {
   "cell_type": "code",
   "execution_count": null,
   "metadata": {},
   "outputs": [],
   "source": []
  }
 ],
 "metadata": {
  "kernelspec": {
   "display_name": "Python 3.10.8 64-bit",
   "language": "python",
   "name": "python3"
  },
  "language_info": {
   "codemirror_mode": {
    "name": "ipython",
    "version": 3
   },
   "file_extension": ".py",
   "mimetype": "text/x-python",
   "name": "python",
   "nbconvert_exporter": "python",
   "pygments_lexer": "ipython3",
   "version": "3.10.8"
  },
  "orig_nbformat": 4,
  "vscode": {
   "interpreter": {
    "hash": "aee8b7b246df8f9039afb4144a1f6fd8d2ca17a180786b69acc140d282b71a49"
   }
  }
 },
 "nbformat": 4,
 "nbformat_minor": 2
}
